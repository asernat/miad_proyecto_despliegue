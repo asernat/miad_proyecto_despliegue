{
 "cells": [
  {
   "cell_type": "code",
   "execution_count": 19,
   "id": "48413b2d-6833-4df9-a49c-117615780fab",
   "metadata": {
    "tags": []
   },
   "outputs": [],
   "source": [
    "import mlflow \n",
    "import os\n",
    "\n",
    "os.chdir('../')"
   ]
  },
  {
   "cell_type": "code",
   "execution_count": 37,
   "id": "68f39c21-05e9-403d-a669-e89d03ee8f62",
   "metadata": {
    "tags": []
   },
   "outputs": [],
   "source": [
    "client = mlflow.tracking.MlflowClient()\n",
    "\n",
    "id = client.get_experiment_by_name(\"optimizacion\").experiment_id\n",
    "best_run = client.search_runs(experiment_ids=id, order_by=[\"metrics.MAPE_test ASC\"], max_results=1)"
   ]
  },
  {
   "cell_type": "code",
   "execution_count": 64,
   "id": "33ba70b2-f4cc-447c-9ef3-65dde1f6afc5",
   "metadata": {},
   "outputs": [
    {
     "name": "stdout",
     "output_type": "stream",
     "text": [
      "Mejor modelo:  optimizacion_gb\n",
      "Parámetros:  {'learning_rate': '0.16946215321744781', 'max_depth': '4', 'n_estimators': '436'}\n",
      "Métricas:  {'MAPE_test': 0.21171960423262826, 'MAPE_train': 0.15305954217401735}\n"
     ]
    }
   ],
   "source": [
    "params = best_run[0].to_dictionary()['data']['params']\n",
    "name = best_run[0].to_dictionary()['info']['run_name']\n",
    "metrics = best_run[0].to_dictionary()['data']['metrics']\n",
    "\n",
    "print(\"Mejor modelo: \",name)\n",
    "print(\"Parámetros: \",params)\n",
    "print(\"Métricas: \",metrics)"
   ]
  }
 ],
 "metadata": {
  "kernelspec": {
   "display_name": "despliegue2",
   "language": "python",
   "name": "despliegue2"
  },
  "language_info": {
   "codemirror_mode": {
    "name": "ipython",
    "version": 3
   },
   "file_extension": ".py",
   "mimetype": "text/x-python",
   "name": "python",
   "nbconvert_exporter": "python",
   "pygments_lexer": "ipython3",
   "version": "3.9.12"
  }
 },
 "nbformat": 4,
 "nbformat_minor": 5
}
