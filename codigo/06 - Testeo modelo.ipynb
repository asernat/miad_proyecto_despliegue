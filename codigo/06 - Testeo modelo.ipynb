{
 "cells": [
  {
   "cell_type": "markdown",
   "id": "3240d8e8-1e7a-48e9-8a67-694a21b0b726",
   "metadata": {},
   "source": [
    "## Testeo de modelo\n"
   ]
  },
  {
   "cell_type": "code",
   "execution_count": 1,
   "id": "4dcf153b-f914-454d-80f5-17de61637491",
   "metadata": {
    "tags": []
   },
   "outputs": [],
   "source": [
    "import pandas as pd\n",
    "import joblib\n",
    "import os\n",
    "\n",
    "os.chdir('../')"
   ]
  },
  {
   "cell_type": "markdown",
   "id": "0997281f-3120-44ac-8ef0-324babb18b28",
   "metadata": {
    "tags": []
   },
   "source": [
    "#### Cargar datos de test"
   ]
  },
  {
   "cell_type": "code",
   "execution_count": 2,
   "id": "93161c77-b991-48d7-b892-74deb77f66d3",
   "metadata": {
    "tags": []
   },
   "outputs": [],
   "source": [
    "df_test = joblib.load(\"datos/data_test.joblib\")"
   ]
  },
  {
   "cell_type": "code",
   "execution_count": 5,
   "id": "e6541247-4833-4d21-be43-d82c09e52774",
   "metadata": {
    "tags": []
   },
   "outputs": [
    {
     "data": {
      "text/html": [
       "<div>\n",
       "<style scoped>\n",
       "    .dataframe tbody tr th:only-of-type {\n",
       "        vertical-align: middle;\n",
       "    }\n",
       "\n",
       "    .dataframe tbody tr th {\n",
       "        vertical-align: top;\n",
       "    }\n",
       "\n",
       "    .dataframe thead th {\n",
       "        text-align: right;\n",
       "    }\n",
       "</style>\n",
       "<table border=\"1\" class=\"dataframe\">\n",
       "  <thead>\n",
       "    <tr style=\"text-align: right;\">\n",
       "      <th></th>\n",
       "      <th>motivo</th>\n",
       "      <th>departamento_inmueble</th>\n",
       "      <th>municipio_inmueble</th>\n",
       "      <th>barrio</th>\n",
       "      <th>vias_pavimentadas</th>\n",
       "      <th>sardineles_en_las_vias</th>\n",
       "      <th>andenes_en_las_vias</th>\n",
       "      <th>estrato</th>\n",
       "      <th>topografia_sector</th>\n",
       "      <th>demanda_interes</th>\n",
       "      <th>...</th>\n",
       "      <th>calidad_acabados_banos</th>\n",
       "      <th>estado_acabados_cocina</th>\n",
       "      <th>calidad_acabados_cocina</th>\n",
       "      <th>tipo_garaje</th>\n",
       "      <th>numero_total_de_garajes</th>\n",
       "      <th>total_cupos_parquedaro</th>\n",
       "      <th>tipo_deposito</th>\n",
       "      <th>numero_total_depositos</th>\n",
       "      <th>area_libre</th>\n",
       "      <th>clean_valor_total_avaluo</th>\n",
       "    </tr>\n",
       "  </thead>\n",
       "  <tbody>\n",
       "    <tr>\n",
       "      <th>11508</th>\n",
       "      <td>Empleados</td>\n",
       "      <td>ANTIOQUIA</td>\n",
       "      <td>BELLO</td>\n",
       "      <td>NAVARRA</td>\n",
       "      <td>Si</td>\n",
       "      <td>Si</td>\n",
       "      <td>Si</td>\n",
       "      <td>3.0</td>\n",
       "      <td>Ligera</td>\n",
       "      <td>2.0</td>\n",
       "      <td>...</td>\n",
       "      <td>2.0</td>\n",
       "      <td>3.0</td>\n",
       "      <td>3.0</td>\n",
       "      <td>0.0</td>\n",
       "      <td>0.0</td>\n",
       "      <td>0.0</td>\n",
       "      <td>0</td>\n",
       "      <td>0.0</td>\n",
       "      <td>Si</td>\n",
       "      <td>119702560.0</td>\n",
       "    </tr>\n",
       "    <tr>\n",
       "      <th>2157</th>\n",
       "      <td>Crédito hipotecario de vivienda</td>\n",
       "      <td>MAGDALENA</td>\n",
       "      <td>SANTA MARTA</td>\n",
       "      <td>San Jose</td>\n",
       "      <td>Si</td>\n",
       "      <td>Si</td>\n",
       "      <td>Si</td>\n",
       "      <td>3.0</td>\n",
       "      <td>Plano</td>\n",
       "      <td>2.0</td>\n",
       "      <td>...</td>\n",
       "      <td>2.0</td>\n",
       "      <td>3.0</td>\n",
       "      <td>2.0</td>\n",
       "      <td>0.0</td>\n",
       "      <td>0.0</td>\n",
       "      <td>0.0</td>\n",
       "      <td>0</td>\n",
       "      <td>0.0</td>\n",
       "      <td>No</td>\n",
       "      <td>163886500.0</td>\n",
       "    </tr>\n",
       "    <tr>\n",
       "      <th>4605</th>\n",
       "      <td>Leasing Habitacional</td>\n",
       "      <td>BOGOTÁ, D. C.</td>\n",
       "      <td>BOGOTÁ, D. C.</td>\n",
       "      <td>Prado Pinzon</td>\n",
       "      <td>Si</td>\n",
       "      <td>Si</td>\n",
       "      <td>Si</td>\n",
       "      <td>4.0</td>\n",
       "      <td>Plano</td>\n",
       "      <td>2.0</td>\n",
       "      <td>...</td>\n",
       "      <td>2.0</td>\n",
       "      <td>3.0</td>\n",
       "      <td>3.0</td>\n",
       "      <td>2.0</td>\n",
       "      <td>1.0</td>\n",
       "      <td>1.0</td>\n",
       "      <td>Privado</td>\n",
       "      <td>1.0</td>\n",
       "      <td>No</td>\n",
       "      <td>400800000.0</td>\n",
       "    </tr>\n",
       "    <tr>\n",
       "      <th>11065</th>\n",
       "      <td>Crédito hipotecario de vivienda</td>\n",
       "      <td>ATLÁNTICO</td>\n",
       "      <td>SOLEDAD</td>\n",
       "      <td>ALTO PRADO</td>\n",
       "      <td>Si</td>\n",
       "      <td>Si</td>\n",
       "      <td>Si</td>\n",
       "      <td>6.0</td>\n",
       "      <td>Ligera</td>\n",
       "      <td>2.0</td>\n",
       "      <td>...</td>\n",
       "      <td>2.0</td>\n",
       "      <td>3.0</td>\n",
       "      <td>2.0</td>\n",
       "      <td>2.0</td>\n",
       "      <td>1.0</td>\n",
       "      <td>2.0</td>\n",
       "      <td>0</td>\n",
       "      <td>0.0</td>\n",
       "      <td>No</td>\n",
       "      <td>315315280.0</td>\n",
       "    </tr>\n",
       "    <tr>\n",
       "      <th>10638</th>\n",
       "      <td>Crédito hipotecario de vivienda</td>\n",
       "      <td>QUINDÍO</td>\n",
       "      <td>ARMENIA</td>\n",
       "      <td>Oro Negro</td>\n",
       "      <td>Si</td>\n",
       "      <td>Si</td>\n",
       "      <td>Si</td>\n",
       "      <td>4.0</td>\n",
       "      <td>Ligera</td>\n",
       "      <td>2.0</td>\n",
       "      <td>...</td>\n",
       "      <td>2.0</td>\n",
       "      <td>3.0</td>\n",
       "      <td>3.0</td>\n",
       "      <td>2.0</td>\n",
       "      <td>1.0</td>\n",
       "      <td>1.0</td>\n",
       "      <td>Privado</td>\n",
       "      <td>1.0</td>\n",
       "      <td>No</td>\n",
       "      <td>212418000.0</td>\n",
       "    </tr>\n",
       "  </tbody>\n",
       "</table>\n",
       "<p>5 rows × 90 columns</p>\n",
       "</div>"
      ],
      "text/plain": [
       "                                motivo departamento_inmueble  \\\n",
       "11508                        Empleados             ANTIOQUIA   \n",
       "2157   Crédito hipotecario de vivienda             MAGDALENA   \n",
       "4605              Leasing Habitacional         BOGOTÁ, D. C.   \n",
       "11065  Crédito hipotecario de vivienda             ATLÁNTICO   \n",
       "10638  Crédito hipotecario de vivienda               QUINDÍO   \n",
       "\n",
       "      municipio_inmueble        barrio vias_pavimentadas  \\\n",
       "11508              BELLO       NAVARRA                Si   \n",
       "2157         SANTA MARTA      San Jose                Si   \n",
       "4605       BOGOTÁ, D. C.  Prado Pinzon                Si   \n",
       "11065            SOLEDAD    ALTO PRADO                Si   \n",
       "10638            ARMENIA     Oro Negro                Si   \n",
       "\n",
       "      sardineles_en_las_vias andenes_en_las_vias  estrato topografia_sector  \\\n",
       "11508                     Si                  Si      3.0            Ligera   \n",
       "2157                      Si                  Si      3.0             Plano   \n",
       "4605                      Si                  Si      4.0             Plano   \n",
       "11065                     Si                  Si      6.0            Ligera   \n",
       "10638                     Si                  Si      4.0            Ligera   \n",
       "\n",
       "       demanda_interes  ... calidad_acabados_banos estado_acabados_cocina  \\\n",
       "11508              2.0  ...                    2.0                    3.0   \n",
       "2157               2.0  ...                    2.0                    3.0   \n",
       "4605               2.0  ...                    2.0                    3.0   \n",
       "11065              2.0  ...                    2.0                    3.0   \n",
       "10638              2.0  ...                    2.0                    3.0   \n",
       "\n",
       "      calidad_acabados_cocina tipo_garaje  numero_total_de_garajes  \\\n",
       "11508                     3.0         0.0                      0.0   \n",
       "2157                      2.0         0.0                      0.0   \n",
       "4605                      3.0         2.0                      1.0   \n",
       "11065                     2.0         2.0                      1.0   \n",
       "10638                     3.0         2.0                      1.0   \n",
       "\n",
       "      total_cupos_parquedaro tipo_deposito numero_total_depositos area_libre  \\\n",
       "11508                    0.0             0                    0.0         Si   \n",
       "2157                     0.0             0                    0.0         No   \n",
       "4605                     1.0       Privado                    1.0         No   \n",
       "11065                    2.0             0                    0.0         No   \n",
       "10638                    1.0       Privado                    1.0         No   \n",
       "\n",
       "      clean_valor_total_avaluo  \n",
       "11508              119702560.0  \n",
       "2157               163886500.0  \n",
       "4605               400800000.0  \n",
       "11065              315315280.0  \n",
       "10638              212418000.0  \n",
       "\n",
       "[5 rows x 90 columns]"
      ]
     },
     "execution_count": 5,
     "metadata": {},
     "output_type": "execute_result"
    }
   ],
   "source": [
    "df_test.head()"
   ]
  },
  {
   "cell_type": "code",
   "execution_count": 6,
   "id": "70e2d711-e1fd-46fa-8282-0f5d25549fb0",
   "metadata": {
    "tags": []
   },
   "outputs": [
    {
     "data": {
      "text/plain": [
       "(2539, 90)"
      ]
     },
     "execution_count": 6,
     "metadata": {},
     "output_type": "execute_result"
    }
   ],
   "source": [
    "df_test.shape"
   ]
  },
  {
   "cell_type": "markdown",
   "id": "62a186a1-e105-4393-b356-cce2e9633946",
   "metadata": {
    "tags": []
   },
   "source": [
    "#### Cargar encoder, selector de variables y mejor modelo"
   ]
  },
  {
   "cell_type": "code",
   "execution_count": 25,
   "id": "6dc1ae5e-1664-4ff5-97fd-bca303327c2b",
   "metadata": {
    "tags": []
   },
   "outputs": [
    {
     "name": "stdout",
     "output_type": "stream",
     "text": [
      "Transformation Pipeline and Model Successfully Loaded\n"
     ]
    }
   ],
   "source": [
    "import joblib\n",
    "from pycaret.regression import load_model \n",
    "\n",
    "fwiz = joblib.load(\"modelos/fwiz.joblib\")\n",
    "cat_econder = joblib.load(\"modelos/cat_econder.joblib\")\n",
    "vars_dict = joblib.load(\"modelos/vars_dict.joblib\")\n",
    "model = load_model(r\"modelos\\best_model-pipeline\") "
   ]
  },
  {
   "cell_type": "markdown",
   "id": "87c3ec7c-1fb5-4f13-9b8f-b51f3cadcceb",
   "metadata": {},
   "source": [
    "#### Crear pipeline de predicción"
   ]
  },
  {
   "cell_type": "code",
   "execution_count": 26,
   "id": "6e74707e-0f33-4f12-bd64-be01ffc4e48f",
   "metadata": {
    "tags": []
   },
   "outputs": [],
   "source": [
    "from sklearn.pipeline import make_pipeline\n",
    "\n",
    "pred_pipeline = make_pipeline(cat_econder, fwiz, model)"
   ]
  },
  {
   "cell_type": "markdown",
   "id": "7f63b4d5-b1bb-49c7-9f0b-b217a0749b21",
   "metadata": {},
   "source": [
    "Exportar pipeline"
   ]
  },
  {
   "cell_type": "code",
   "execution_count": 35,
   "id": "279abb4b-bf8b-4138-a5fe-17eab81c127e",
   "metadata": {
    "tags": []
   },
   "outputs": [
    {
     "data": {
      "text/plain": [
       "['modelos/pred_pipeline.joblib']"
      ]
     },
     "execution_count": 35,
     "metadata": {},
     "output_type": "execute_result"
    }
   ],
   "source": [
    "joblib.dump(pred_pipeline, \"modelos/pred_pipeline.joblib\")"
   ]
  },
  {
   "cell_type": "code",
   "execution_count": null,
   "id": "b7adf044-44f3-436e-95ad-bcf1e1125640",
   "metadata": {},
   "outputs": [],
   "source": []
  },
  {
   "cell_type": "markdown",
   "id": "430c2a66-8d8f-47ed-bfb8-901406ab01ef",
   "metadata": {
    "tags": []
   },
   "source": [
    "#### Cargar mejor modelo y generar predicciones"
   ]
  },
  {
   "cell_type": "code",
   "execution_count": 36,
   "id": "94b5ab07-6c0c-4d54-971c-c5b77f7e6cf5",
   "metadata": {
    "tags": []
   },
   "outputs": [],
   "source": [
    "y_pred = pred_pipeline.predict(df_test.drop(columns=[\"clean_valor_total_avaluo\"]))\n",
    "y_true = X_test_selected[\"clean_valor_total_avaluo\"]"
   ]
  },
  {
   "cell_type": "code",
   "execution_count": 37,
   "id": "224f5bd3-d01f-4f24-9a24-7334fae263eb",
   "metadata": {
    "tags": []
   },
   "outputs": [
    {
     "name": "stdout",
     "output_type": "stream",
     "text": [
      "MAPE:  0.2835571357409368\n"
     ]
    }
   ],
   "source": [
    "from sklearn.metrics import mean_absolute_percentage_error\n",
    "print(\"MAPE: \",mean_absolute_percentage_error(y_true, y_pred))"
   ]
  },
  {
   "cell_type": "markdown",
   "id": "68190c59",
   "metadata": {},
   "source": [
    "### Importancia de variables"
   ]
  },
  {
   "cell_type": "code",
   "execution_count": 38,
   "id": "43f36da8",
   "metadata": {
    "tags": []
   },
   "outputs": [
    {
     "data": {
      "text/plain": [
       "Index(['barrio', 'area_valorada', 'vetustez', 'ocupante',\n",
       "       'total_cupos_parquedaro', 'municipio_inmueble', 'estrato', 'cocina',\n",
       "       'clase_inmueble', 'numero_piso', 'estructura_reforzada',\n",
       "       'departamento_inmueble', 'tipo_garaje', 'detalle_material',\n",
       "       'tipo_inmueble', 'closet', 'bano_privado', 'balcon',\n",
       "       'calidad_acabados_madera', 'tanque_de_agua', 'terraza',\n",
       "       'calidad_acabados_metal', 'demanda_interes', 'telefono_en_el_predio',\n",
       "       'gas_en_el_predio', 'calidad_acabados_cocina', 'numero_de_edificios',\n",
       "       'calidad_acabados_techos', 'tipo_deposito', 'motivo'],\n",
       "      dtype='object', name='orig_var')"
      ]
     },
     "execution_count": 38,
     "metadata": {},
     "output_type": "execute_result"
    }
   ],
   "source": [
    "importances = model.steps[2][1].feature_importances_\n",
    "feature_names = X_test_selected.drop(columns=[\"clean_valor_total_avaluo\"]).columns\n",
    "forest_importances = pd.DataFrame(importances, index=feature_names, columns=['importance']).reset_index()\n",
    "forest_importances['orig_var'] = forest_importances['index'].apply(lambda v: vars_dict[v])\n",
    "forest_importances.groupby(['orig_var'])['importance'].max().sort_values(ascending=False).head(30).index"
   ]
  },
  {
   "cell_type": "markdown",
   "id": "92877654",
   "metadata": {},
   "source": [
    "### Predicción inmueble promedio"
   ]
  },
  {
   "cell_type": "code",
   "execution_count": 39,
   "id": "7e882d1c",
   "metadata": {
    "tags": []
   },
   "outputs": [
    {
     "data": {
      "text/plain": [
       "Index(['barrio', 'area_valorada', 'vetustez', 'ocupante',\n",
       "       'total_cupos_parquedaro', 'municipio_inmueble', 'estrato', 'cocina',\n",
       "       'clase_inmueble', 'numero_piso', 'estructura_reforzada',\n",
       "       'departamento_inmueble', 'tipo_garaje', 'detalle_material',\n",
       "       'tipo_inmueble', 'closet', 'bano_privado', 'balcon',\n",
       "       'calidad_acabados_madera', 'tanque_de_agua', 'terraza',\n",
       "       'calidad_acabados_metal', 'demanda_interes', 'telefono_en_el_predio',\n",
       "       'gas_en_el_predio', 'calidad_acabados_cocina', 'numero_de_edificios',\n",
       "       'calidad_acabados_techos', 'tipo_deposito', 'motivo'],\n",
       "      dtype='object', name='orig_var')"
      ]
     },
     "execution_count": 39,
     "metadata": {},
     "output_type": "execute_result"
    }
   ],
   "source": [
    "importances = model.steps[2][1].feature_importances_\n",
    "feature_names = X_test_selected.drop(columns=[\"clean_valor_total_avaluo\"]).columns\n",
    "forest_importances = pd.DataFrame(importances, index=feature_names, columns=['importance']).reset_index()\n",
    "forest_importances['orig_var'] = forest_importances['index'].apply(lambda v: vars_dict[v])\n",
    "forest_importances.groupby(['orig_var'])['importance'].max().sort_values(ascending=False).head(30).index"
   ]
  },
  {
   "cell_type": "code",
   "execution_count": 40,
   "id": "b38a06f5",
   "metadata": {
    "tags": []
   },
   "outputs": [],
   "source": [
    "import pickle\n",
    "datos = pickle.load(open(\"datos/datos_tablero.pkl\",\"rb\")).drop(columns=[\"clean_valor_total_avaluo\",\"direccion_inmueble_informe\",\"Longitud\", \"Latitud\"])\n",
    "inmueble_promedio = {'departamento_inmueble':datos['departamento_inmueble'].mode().values[0]}\n",
    "inmueble_promedio['municipio_inmueble']=datos.query(\"departamento_inmueble=='{}'\".format(inmueble_promedio['departamento_inmueble']))['municipio_inmueble'].mode().values[0]\n",
    "inmueble_promedio['barrio']=datos.query(\"municipio_inmueble=='{}'\".format(inmueble_promedio['municipio_inmueble']))['barrio'].mode().values[0]\n",
    "\n",
    "for c in datos.columns:\n",
    "    if c not in inmueble_promedio.keys():\n",
    "        if datos[c].dtype == \"O\":\n",
    "            inmueble_promedio[c] = datos[c].mode().values[0]\n",
    "        else:\n",
    "            inmueble_promedio[c] = datos[c].median()"
   ]
  },
  {
   "cell_type": "code",
   "execution_count": 41,
   "id": "24baeeaf",
   "metadata": {
    "tags": []
   },
   "outputs": [],
   "source": [
    "inmueble_promedio_t = cat_econder.transform(pd.DataFrame.from_dict(inmueble_promedio, orient='index').T)\n",
    "inmueble_promedio_selected = fwiz.transform(inmueble_promedio_t)"
   ]
  },
  {
   "cell_type": "code",
   "execution_count": 42,
   "id": "1b407759",
   "metadata": {
    "tags": []
   },
   "outputs": [
    {
     "data": {
      "text/plain": [
       "293799152.0"
      ]
     },
     "execution_count": 42,
     "metadata": {},
     "output_type": "execute_result"
    }
   ],
   "source": [
    "model.predict(inmueble_promedio_selected)[0]"
   ]
  },
  {
   "cell_type": "code",
   "execution_count": 43,
   "id": "6d28d987",
   "metadata": {
    "tags": []
   },
   "outputs": [],
   "source": [
    "pickle.dump(inmueble_promedio, open(\"modelos\\inmueble_promedio.pkl\",\"wb\"))"
   ]
  },
  {
   "cell_type": "code",
   "execution_count": null,
   "id": "8c0d0a19",
   "metadata": {},
   "outputs": [],
   "source": []
  }
 ],
 "metadata": {
  "kernelspec": {
   "display_name": "despliegue2",
   "language": "python",
   "name": "despliegue2"
  },
  "language_info": {
   "codemirror_mode": {
    "name": "ipython",
    "version": 3
   },
   "file_extension": ".py",
   "mimetype": "text/x-python",
   "name": "python",
   "nbconvert_exporter": "python",
   "pygments_lexer": "ipython3",
   "version": "3.9.12"
  }
 },
 "nbformat": 4,
 "nbformat_minor": 5
}
