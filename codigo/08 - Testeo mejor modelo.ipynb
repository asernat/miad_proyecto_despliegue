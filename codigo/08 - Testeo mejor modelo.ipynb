{
 "cells": [
  {
   "cell_type": "code",
   "execution_count": 3,
   "metadata": {},
   "outputs": [],
   "source": [
    "import pandas as pd\n",
    "import joblib\n",
    "import os\n",
    "\n",
    "os.chdir('../')"
   ]
  },
  {
   "cell_type": "code",
   "execution_count": 4,
   "metadata": {},
   "outputs": [],
   "source": [
    "df_test = joblib.load(\"datos/data_test.joblib\")"
   ]
  },
  {
   "cell_type": "code",
   "execution_count": 4,
   "metadata": {},
   "outputs": [
    {
     "name": "stdout",
     "output_type": "stream",
     "text": [
      "Experiment ID: 910525732961037228\n"
     ]
    }
   ],
   "source": [
    "import mlflow\n",
    "\n",
    "experiment_name = \"optimizacion\"  # Reemplaza <nombre_del_experimento> con el nombre del experimento que deseas buscar\n",
    "\n",
    "experiment = mlflow.get_experiment_by_name(experiment_name)\n",
    "\n",
    "if experiment is not None:\n",
    "    experiment_id = experiment.experiment_id\n",
    "    print(\"Experiment ID:\", experiment_id)\n",
    "else:\n",
    "    print(\"El experimento no existe.\")"
   ]
  },
  {
   "cell_type": "code",
   "execution_count": 11,
   "metadata": {},
   "outputs": [],
   "source": [
    "experiment_id = '910525732961037228'"
   ]
  },
  {
   "cell_type": "code",
   "execution_count": 12,
   "metadata": {},
   "outputs": [],
   "source": [
    "runs = mlflow.search_runs(experiment_ids=experiment_id,order_by=['metrics.MAPE_test ASC'], max_results=1)"
   ]
  },
  {
   "cell_type": "code",
   "execution_count": 13,
   "metadata": {},
   "outputs": [
    {
     "data": {
      "text/html": [
       "<div>\n",
       "<style scoped>\n",
       "    .dataframe tbody tr th:only-of-type {\n",
       "        vertical-align: middle;\n",
       "    }\n",
       "\n",
       "    .dataframe tbody tr th {\n",
       "        vertical-align: top;\n",
       "    }\n",
       "\n",
       "    .dataframe thead th {\n",
       "        text-align: right;\n",
       "    }\n",
       "</style>\n",
       "<table border=\"1\" class=\"dataframe\">\n",
       "  <thead>\n",
       "    <tr style=\"text-align: right;\">\n",
       "      <th></th>\n",
       "      <th>run_id</th>\n",
       "      <th>experiment_id</th>\n",
       "      <th>status</th>\n",
       "      <th>artifact_uri</th>\n",
       "      <th>start_time</th>\n",
       "      <th>end_time</th>\n",
       "      <th>metrics.MAPE_test</th>\n",
       "      <th>metrics.MAPE_train</th>\n",
       "      <th>params.max_depth</th>\n",
       "      <th>params.n_estimators</th>\n",
       "      <th>params.learning_rate</th>\n",
       "      <th>tags.mlflow.source.name</th>\n",
       "      <th>tags.mlflow.source.type</th>\n",
       "      <th>tags.mlflow.runName</th>\n",
       "      <th>tags.mlflow.user</th>\n",
       "    </tr>\n",
       "  </thead>\n",
       "  <tbody>\n",
       "    <tr>\n",
       "      <th>0</th>\n",
       "      <td>4fb19a084f734574ac15c095b896d401</td>\n",
       "      <td>910525732961037228</td>\n",
       "      <td>FINISHED</td>\n",
       "      <td>file:///e:/Importante/Estudios/Maestria/11%20D...</td>\n",
       "      <td>2023-11-20 03:56:38.477000+00:00</td>\n",
       "      <td>2023-11-20 03:58:07.052000+00:00</td>\n",
       "      <td>0.21172</td>\n",
       "      <td>0.15306</td>\n",
       "      <td>4</td>\n",
       "      <td>436</td>\n",
       "      <td>0.16946215321744781</td>\n",
       "      <td>D:\\ambientes\\despliegue2\\lib\\site-packages\\ipy...</td>\n",
       "      <td>LOCAL</td>\n",
       "      <td>optimizacion_gb</td>\n",
       "      <td>Santi</td>\n",
       "    </tr>\n",
       "  </tbody>\n",
       "</table>\n",
       "</div>"
      ],
      "text/plain": [
       "                             run_id       experiment_id    status  \\\n",
       "0  4fb19a084f734574ac15c095b896d401  910525732961037228  FINISHED   \n",
       "\n",
       "                                        artifact_uri  \\\n",
       "0  file:///e:/Importante/Estudios/Maestria/11%20D...   \n",
       "\n",
       "                        start_time                         end_time  \\\n",
       "0 2023-11-20 03:56:38.477000+00:00 2023-11-20 03:58:07.052000+00:00   \n",
       "\n",
       "   metrics.MAPE_test  metrics.MAPE_train params.max_depth params.n_estimators  \\\n",
       "0            0.21172             0.15306                4                 436   \n",
       "\n",
       "  params.learning_rate                            tags.mlflow.source.name  \\\n",
       "0  0.16946215321744781  D:\\ambientes\\despliegue2\\lib\\site-packages\\ipy...   \n",
       "\n",
       "  tags.mlflow.source.type tags.mlflow.runName tags.mlflow.user  \n",
       "0                   LOCAL     optimizacion_gb            Santi  "
      ]
     },
     "execution_count": 13,
     "metadata": {},
     "output_type": "execute_result"
    }
   ],
   "source": [
    "runs"
   ]
  },
  {
   "cell_type": "code",
   "execution_count": 30,
   "metadata": {},
   "outputs": [
    {
     "name": "stdout",
     "output_type": "stream",
     "text": [
      "Mejor modelo:  {'model_name': 'optimizacion_gb'}\n",
      "Parámetros:  {'max_depth': '4', 'n_estimators': '436', 'learning_rate': '0.16946215321744781'}\n",
      "Métricas:  {'MAPE_TEST': 0.21171960423262826, 'MAPE_TRAIN': 0.15305954217401735}\n"
     ]
    }
   ],
   "source": [
    "params = {\n",
    "    'max_depth': best_run['params.max_depth'],\n",
    "    'n_estimators': best_run['params.n_estimators'],\n",
    "    'learning_rate': best_run['params.learning_rate'],\n",
    "}\n",
    "\n",
    "name = {\n",
    "    'model_name': best_run['tags.mlflow.runName']\n",
    "    }\n",
    "\n",
    "metrics={\n",
    "     'MAPE_TEST':best_run['metrics.MAPE_test'],\n",
    "     'MAPE_TRAIN':best_run['metrics.MAPE_train']\n",
    "}\n",
    "\n",
    "print(\"Mejor modelo: \",name)\n",
    "print(\"Parámetros: \",params)\n",
    "print(\"Métricas: \",metrics)"
   ]
  },
  {
   "cell_type": "code",
   "execution_count": 31,
   "metadata": {},
   "outputs": [],
   "source": [
    "mejor_modelo = {\n",
    "    \"name\": name,\n",
    "    \"params\": params,\n",
    "    \"metrics\": metrics\n",
    "}\n"
   ]
  },
  {
   "cell_type": "code",
   "execution_count": 33,
   "metadata": {},
   "outputs": [],
   "source": [
    "import pickle\n",
    "with open(\"modelos/mejor_modelo.pkl\", \"wb\") as file:\n",
    "    pickle.dump(mejor_modelo, file)\n",
    "\n",
    "file.close()"
   ]
  },
  {
   "cell_type": "code",
   "execution_count": 6,
   "metadata": {},
   "outputs": [],
   "source": [
    "import joblib\n",
    "\n",
    "fwiz = joblib.load(\"modelos/fwiz.joblib\")\n",
    "cat_econder = joblib.load(\"modelos/cat_econder.joblib\")\n",
    "vars_dict = joblib.load(\"modelos/vars_dict.joblib\")\n"
   ]
  },
  {
   "cell_type": "code",
   "execution_count": 7,
   "metadata": {},
   "outputs": [],
   "source": [
    "import pickle\n",
    "\n",
    "# Load the pickle file\n",
    "with open(\"modelos/mejor_modelo.pkl\", \"rb\") as file:\n",
    "    model = pickle.load(file)"
   ]
  },
  {
   "cell_type": "code",
   "execution_count": 8,
   "metadata": {},
   "outputs": [
    {
     "data": {
      "text/plain": [
       "{'name': {'model_name': 'optimizacion_gb'},\n",
       " 'params': {'max_depth': '4',\n",
       "  'n_estimators': '436',\n",
       "  'learning_rate': '0.16946215321744781'},\n",
       " 'metrics': {'MAPE_TEST': 0.21171960423262826,\n",
       "  'MAPE_TRAIN': 0.15305954217401735}}"
      ]
     },
     "execution_count": 8,
     "metadata": {},
     "output_type": "execute_result"
    }
   ],
   "source": [
    "model"
   ]
  },
  {
   "cell_type": "code",
   "execution_count": 9,
   "metadata": {},
   "outputs": [],
   "source": [
    "from sklearn.pipeline import make_pipeline\n",
    "\n",
    "pred_pipeline = make_pipeline(cat_econder, fwiz, model)"
   ]
  },
  {
   "cell_type": "code",
   "execution_count": 10,
   "metadata": {},
   "outputs": [
    {
     "data": {
      "text/plain": [
       "['modelos/pred_pipeline_mejor_modelo.joblib']"
      ]
     },
     "execution_count": 10,
     "metadata": {},
     "output_type": "execute_result"
    }
   ],
   "source": [
    "joblib.dump(pred_pipeline, \"modelos/pred_pipeline_mejor_modelo.joblib\")"
   ]
  },
  {
   "cell_type": "code",
   "execution_count": null,
   "metadata": {},
   "outputs": [],
   "source": []
  }
 ],
 "metadata": {
  "kernelspec": {
   "display_name": "Python 3",
   "language": "python",
   "name": "python3"
  },
  "language_info": {
   "codemirror_mode": {
    "name": "ipython",
    "version": 3
   },
   "file_extension": ".py",
   "mimetype": "text/x-python",
   "name": "python",
   "nbconvert_exporter": "python",
   "pygments_lexer": "ipython3",
   "version": "3.9.18"
  },
  "orig_nbformat": 4
 },
 "nbformat": 4,
 "nbformat_minor": 2
}
