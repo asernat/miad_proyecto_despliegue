{
 "cells": [
  {
   "cell_type": "markdown",
   "id": "3240d8e8-1e7a-48e9-8a67-694a21b0b726",
   "metadata": {},
   "source": [
    "## Testeo de modelo\n"
   ]
  },
  {
   "cell_type": "code",
   "execution_count": 1,
   "id": "4dcf153b-f914-454d-80f5-17de61637491",
   "metadata": {
    "tags": []
   },
   "outputs": [],
   "source": [
    "import pandas as pd\n",
    "import joblib\n",
    "import os\n",
    "\n",
    "os.chdir('../')"
   ]
  },
  {
   "cell_type": "markdown",
   "id": "0997281f-3120-44ac-8ef0-324babb18b28",
   "metadata": {
    "tags": []
   },
   "source": [
    "#### Cargar datos de test"
   ]
  },
  {
   "cell_type": "code",
   "execution_count": 2,
   "id": "93161c77-b991-48d7-b892-74deb77f66d3",
   "metadata": {
    "tags": []
   },
   "outputs": [],
   "source": [
    "df_test = joblib.load(\"datos/data_test.joblib\")"
   ]
  },
  {
   "cell_type": "code",
   "execution_count": 3,
   "id": "e6541247-4833-4d21-be43-d82c09e52774",
   "metadata": {
    "tags": []
   },
   "outputs": [
    {
     "data": {
      "text/html": [
       "<div>\n",
       "<style scoped>\n",
       "    .dataframe tbody tr th:only-of-type {\n",
       "        vertical-align: middle;\n",
       "    }\n",
       "\n",
       "    .dataframe tbody tr th {\n",
       "        vertical-align: top;\n",
       "    }\n",
       "\n",
       "    .dataframe thead th {\n",
       "        text-align: right;\n",
       "    }\n",
       "</style>\n",
       "<table border=\"1\" class=\"dataframe\">\n",
       "  <thead>\n",
       "    <tr style=\"text-align: right;\">\n",
       "      <th></th>\n",
       "      <th>motivo</th>\n",
       "      <th>departamento_inmueble</th>\n",
       "      <th>municipio_inmueble</th>\n",
       "      <th>barrio</th>\n",
       "      <th>vias_pavimentadas</th>\n",
       "      <th>sardineles_en_las_vias</th>\n",
       "      <th>andenes_en_las_vias</th>\n",
       "      <th>estrato</th>\n",
       "      <th>topografia_sector</th>\n",
       "      <th>demanda_interes</th>\n",
       "      <th>...</th>\n",
       "      <th>calidad_acabados_banos</th>\n",
       "      <th>estado_acabados_cocina</th>\n",
       "      <th>calidad_acabados_cocina</th>\n",
       "      <th>tipo_garaje</th>\n",
       "      <th>numero_total_de_garajes</th>\n",
       "      <th>total_cupos_parquedaro</th>\n",
       "      <th>tipo_deposito</th>\n",
       "      <th>numero_total_depositos</th>\n",
       "      <th>area_libre</th>\n",
       "      <th>clean_valor_total_avaluo</th>\n",
       "    </tr>\n",
       "  </thead>\n",
       "  <tbody>\n",
       "    <tr>\n",
       "      <th>11508</th>\n",
       "      <td>Empleados</td>\n",
       "      <td>ANTIOQUIA</td>\n",
       "      <td>BELLO</td>\n",
       "      <td>NAVARRA</td>\n",
       "      <td>Si</td>\n",
       "      <td>Si</td>\n",
       "      <td>Si</td>\n",
       "      <td>3.0</td>\n",
       "      <td>Ligera</td>\n",
       "      <td>2.0</td>\n",
       "      <td>...</td>\n",
       "      <td>2.0</td>\n",
       "      <td>3.0</td>\n",
       "      <td>3.0</td>\n",
       "      <td>0.0</td>\n",
       "      <td>0.0</td>\n",
       "      <td>0.0</td>\n",
       "      <td>0</td>\n",
       "      <td>0.0</td>\n",
       "      <td>Si</td>\n",
       "      <td>119702560.0</td>\n",
       "    </tr>\n",
       "    <tr>\n",
       "      <th>2157</th>\n",
       "      <td>Crédito hipotecario de vivienda</td>\n",
       "      <td>MAGDALENA</td>\n",
       "      <td>SANTA MARTA</td>\n",
       "      <td>San Jose</td>\n",
       "      <td>Si</td>\n",
       "      <td>Si</td>\n",
       "      <td>Si</td>\n",
       "      <td>3.0</td>\n",
       "      <td>Plano</td>\n",
       "      <td>2.0</td>\n",
       "      <td>...</td>\n",
       "      <td>2.0</td>\n",
       "      <td>3.0</td>\n",
       "      <td>2.0</td>\n",
       "      <td>0.0</td>\n",
       "      <td>0.0</td>\n",
       "      <td>0.0</td>\n",
       "      <td>0</td>\n",
       "      <td>0.0</td>\n",
       "      <td>No</td>\n",
       "      <td>163886500.0</td>\n",
       "    </tr>\n",
       "    <tr>\n",
       "      <th>4605</th>\n",
       "      <td>Leasing Habitacional</td>\n",
       "      <td>BOGOTÁ, D. C.</td>\n",
       "      <td>BOGOTÁ, D. C.</td>\n",
       "      <td>Prado Pinzon</td>\n",
       "      <td>Si</td>\n",
       "      <td>Si</td>\n",
       "      <td>Si</td>\n",
       "      <td>4.0</td>\n",
       "      <td>Plano</td>\n",
       "      <td>2.0</td>\n",
       "      <td>...</td>\n",
       "      <td>2.0</td>\n",
       "      <td>3.0</td>\n",
       "      <td>3.0</td>\n",
       "      <td>2.0</td>\n",
       "      <td>1.0</td>\n",
       "      <td>1.0</td>\n",
       "      <td>Privado</td>\n",
       "      <td>1.0</td>\n",
       "      <td>No</td>\n",
       "      <td>400800000.0</td>\n",
       "    </tr>\n",
       "    <tr>\n",
       "      <th>11065</th>\n",
       "      <td>Crédito hipotecario de vivienda</td>\n",
       "      <td>ATLÁNTICO</td>\n",
       "      <td>SOLEDAD</td>\n",
       "      <td>ALTO PRADO</td>\n",
       "      <td>Si</td>\n",
       "      <td>Si</td>\n",
       "      <td>Si</td>\n",
       "      <td>6.0</td>\n",
       "      <td>Ligera</td>\n",
       "      <td>2.0</td>\n",
       "      <td>...</td>\n",
       "      <td>2.0</td>\n",
       "      <td>3.0</td>\n",
       "      <td>2.0</td>\n",
       "      <td>2.0</td>\n",
       "      <td>1.0</td>\n",
       "      <td>2.0</td>\n",
       "      <td>0</td>\n",
       "      <td>0.0</td>\n",
       "      <td>No</td>\n",
       "      <td>315315280.0</td>\n",
       "    </tr>\n",
       "    <tr>\n",
       "      <th>10638</th>\n",
       "      <td>Crédito hipotecario de vivienda</td>\n",
       "      <td>QUINDÍO</td>\n",
       "      <td>ARMENIA</td>\n",
       "      <td>Oro Negro</td>\n",
       "      <td>Si</td>\n",
       "      <td>Si</td>\n",
       "      <td>Si</td>\n",
       "      <td>4.0</td>\n",
       "      <td>Ligera</td>\n",
       "      <td>2.0</td>\n",
       "      <td>...</td>\n",
       "      <td>2.0</td>\n",
       "      <td>3.0</td>\n",
       "      <td>3.0</td>\n",
       "      <td>2.0</td>\n",
       "      <td>1.0</td>\n",
       "      <td>1.0</td>\n",
       "      <td>Privado</td>\n",
       "      <td>1.0</td>\n",
       "      <td>No</td>\n",
       "      <td>212418000.0</td>\n",
       "    </tr>\n",
       "  </tbody>\n",
       "</table>\n",
       "<p>5 rows × 90 columns</p>\n",
       "</div>"
      ],
      "text/plain": [
       "                                motivo departamento_inmueble  \\\n",
       "11508                        Empleados             ANTIOQUIA   \n",
       "2157   Crédito hipotecario de vivienda             MAGDALENA   \n",
       "4605              Leasing Habitacional         BOGOTÁ, D. C.   \n",
       "11065  Crédito hipotecario de vivienda             ATLÁNTICO   \n",
       "10638  Crédito hipotecario de vivienda               QUINDÍO   \n",
       "\n",
       "      municipio_inmueble        barrio vias_pavimentadas  \\\n",
       "11508              BELLO       NAVARRA                Si   \n",
       "2157         SANTA MARTA      San Jose                Si   \n",
       "4605       BOGOTÁ, D. C.  Prado Pinzon                Si   \n",
       "11065            SOLEDAD    ALTO PRADO                Si   \n",
       "10638            ARMENIA     Oro Negro                Si   \n",
       "\n",
       "      sardineles_en_las_vias andenes_en_las_vias  estrato topografia_sector  \\\n",
       "11508                     Si                  Si      3.0            Ligera   \n",
       "2157                      Si                  Si      3.0             Plano   \n",
       "4605                      Si                  Si      4.0             Plano   \n",
       "11065                     Si                  Si      6.0            Ligera   \n",
       "10638                     Si                  Si      4.0            Ligera   \n",
       "\n",
       "       demanda_interes  ... calidad_acabados_banos estado_acabados_cocina  \\\n",
       "11508              2.0  ...                    2.0                    3.0   \n",
       "2157               2.0  ...                    2.0                    3.0   \n",
       "4605               2.0  ...                    2.0                    3.0   \n",
       "11065              2.0  ...                    2.0                    3.0   \n",
       "10638              2.0  ...                    2.0                    3.0   \n",
       "\n",
       "      calidad_acabados_cocina tipo_garaje  numero_total_de_garajes  \\\n",
       "11508                     3.0         0.0                      0.0   \n",
       "2157                      2.0         0.0                      0.0   \n",
       "4605                      3.0         2.0                      1.0   \n",
       "11065                     2.0         2.0                      1.0   \n",
       "10638                     3.0         2.0                      1.0   \n",
       "\n",
       "      total_cupos_parquedaro tipo_deposito numero_total_depositos area_libre  \\\n",
       "11508                    0.0             0                    0.0         Si   \n",
       "2157                     0.0             0                    0.0         No   \n",
       "4605                     1.0       Privado                    1.0         No   \n",
       "11065                    2.0             0                    0.0         No   \n",
       "10638                    1.0       Privado                    1.0         No   \n",
       "\n",
       "      clean_valor_total_avaluo  \n",
       "11508              119702560.0  \n",
       "2157               163886500.0  \n",
       "4605               400800000.0  \n",
       "11065              315315280.0  \n",
       "10638              212418000.0  \n",
       "\n",
       "[5 rows x 90 columns]"
      ]
     },
     "execution_count": 3,
     "metadata": {},
     "output_type": "execute_result"
    }
   ],
   "source": [
    "df_test.head()"
   ]
  },
  {
   "cell_type": "code",
   "execution_count": 4,
   "id": "70e2d711-e1fd-46fa-8282-0f5d25549fb0",
   "metadata": {
    "tags": []
   },
   "outputs": [
    {
     "data": {
      "text/plain": [
       "(2539, 90)"
      ]
     },
     "execution_count": 4,
     "metadata": {},
     "output_type": "execute_result"
    }
   ],
   "source": [
    "df_test.shape"
   ]
  },
  {
   "cell_type": "markdown",
   "id": "62a186a1-e105-4393-b356-cce2e9633946",
   "metadata": {
    "tags": []
   },
   "source": [
    "#### Cargar encoder y selector de variables"
   ]
  },
  {
   "cell_type": "code",
   "execution_count": 5,
   "id": "6dc1ae5e-1664-4ff5-97fd-bca303327c2b",
   "metadata": {},
   "outputs": [
    {
     "name": "stdout",
     "output_type": "stream",
     "text": [
      "Imported 0.3.2 version. Select nrows to a small number when running on huge datasets.\n",
      "output = featurewiz(dataname, target, corr_limit=0.90, verbose=2, sep=',', \n",
      "\t\theader=0, test_data='',feature_engg='', category_encoders='',\n",
      "\t\tdask_xgboost_flag=False, nrows=None, skip_sulov=False, skip_xgboost=False)\n",
      "Create new features via 'feature_engg' flag : ['interactions','groupby','target']\n",
      "\n"
     ]
    }
   ],
   "source": [
    "import joblib\n",
    "fwiz = joblib.load(\"modelos/fwiz.joblib\")\n",
    "cat_econder = joblib.load(\"modelos/cat_econder.joblib\")"
   ]
  },
  {
   "cell_type": "markdown",
   "id": "b01e9f8b-0e7e-41d9-9b2f-54b6e0bfc5b7",
   "metadata": {},
   "source": [
    "#### Aplicar encoder y selector de variables"
   ]
  },
  {
   "cell_type": "code",
   "execution_count": 6,
   "id": "429807a4-2ae6-4761-bb71-6aae9c5ba0d8",
   "metadata": {
    "tags": []
   },
   "outputs": [],
   "source": [
    "X_test_t = cat_econder.transform(df_test.drop(columns=['clean_valor_total_avaluo']))"
   ]
  },
  {
   "cell_type": "code",
   "execution_count": 7,
   "id": "3880c99b-d519-49ef-b624-65d8b27c0cac",
   "metadata": {},
   "outputs": [],
   "source": [
    "X_test_selected = pd.concat([fwiz.transform(X_test_t), df_test['clean_valor_total_avaluo']], axis=1)"
   ]
  },
  {
   "cell_type": "markdown",
   "id": "430c2a66-8d8f-47ed-bfb8-901406ab01ef",
   "metadata": {
    "tags": []
   },
   "source": [
    "#### Cargar mejor modelo y generar predicciones"
   ]
  },
  {
   "cell_type": "code",
   "execution_count": 8,
   "id": "5411b86d-636b-4cdc-9dc2-d690741d53dd",
   "metadata": {},
   "outputs": [
    {
     "name": "stdout",
     "output_type": "stream",
     "text": [
      "Transformation Pipeline and Model Successfully Loaded\n"
     ]
    }
   ],
   "source": [
    "from pycaret.regression import load_model \n",
    "\n",
    "model = load_model(r\"modelos\\best_model-pipeline\") \n"
   ]
  },
  {
   "cell_type": "code",
   "execution_count": 9,
   "id": "94b5ab07-6c0c-4d54-971c-c5b77f7e6cf5",
   "metadata": {
    "tags": []
   },
   "outputs": [],
   "source": [
    "y_pred = model.predict(X_test_selected.drop(columns=[\"clean_valor_total_avaluo\"]))\n",
    "y_true = X_test_selected[\"clean_valor_total_avaluo\"]"
   ]
  },
  {
   "cell_type": "code",
   "execution_count": 10,
   "id": "224f5bd3-d01f-4f24-9a24-7334fae263eb",
   "metadata": {},
   "outputs": [
    {
     "name": "stdout",
     "output_type": "stream",
     "text": [
      "MAPE:  0.2835571357409368\n"
     ]
    }
   ],
   "source": [
    "from sklearn.metrics import mean_absolute_percentage_error\n",
    "print(\"MAPE: \",mean_absolute_percentage_error(y_true, y_pred))"
   ]
  }
 ],
 "metadata": {
  "kernelspec": {
   "display_name": "Python 3 (ipykernel)",
   "language": "python",
   "name": "python3"
  },
  "language_info": {
   "codemirror_mode": {
    "name": "ipython",
    "version": 3
   },
   "file_extension": ".py",
   "mimetype": "text/x-python",
   "name": "python",
   "nbconvert_exporter": "python",
   "pygments_lexer": "ipython3",
   "version": "3.9.18"
  }
 },
 "nbformat": 4,
 "nbformat_minor": 5
}
