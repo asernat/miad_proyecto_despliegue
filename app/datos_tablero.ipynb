{
 "cells": [
  {
   "cell_type": "code",
   "execution_count": 1,
   "id": "081ab314-4cf7-4c2d-8ad0-27483f766fc1",
   "metadata": {
    "tags": []
   },
   "outputs": [],
   "source": [
    "import pandas as pd\n",
    "\n",
    "df_viviendas = pd.read_excel(\"../datos/prep_entrenamiento_precios_vivienda.xlsx\", dtype=str)\n"
   ]
  },
  {
   "cell_type": "code",
   "execution_count": 2,
   "id": "b0410607-b52b-4e19-8267-5c8c0378b41d",
   "metadata": {
    "tags": []
   },
   "outputs": [],
   "source": [
    "vars_ordinales = ['estrato', 'demanda_interes', 'nivel_equipamiento_comercial', 'estado_acabados_pisos', \n",
    "                  'calidad_acabados_pisos', 'calidad_acabados_muros', 'calidad_acabados_techos',\n",
    "                  'estado_acabados_madera', 'calidad_acabados_madera', 'calidad_acabados_metal', \n",
    "                  'calidad_acabados_banos', 'estado_acabados_cocina', 'calidad_acabados_cocina', 'tipo_garaje']\n",
    "\n",
    "vars_numericas = ['area_valorada', 'numero_piso', 'numero_de_edificios', 'pisos_bodega', 'habitaciones',\n",
    "                  'estar_habitacion', 'cuarto_servicio', 'closet', 'sala', 'comedor', 'bano_privado', \n",
    "                  'bano_social', 'bano_servicio', 'cocina', 'estudio', 'balcon', 'terraza',\n",
    "                  'patio_interior', 'jardin', 'zona_de_ropas', 'numero_total_de_garajes', \n",
    "                  'total_cupos_parquedaro', 'vetustez', 'numero_total_depositos']\n",
    "\n",
    "vars_binarias = ['vias_pavimentadas', 'sardineles_en_las_vias', 'andenes_en_las_vias', 'paradero', \n",
    "                 'arborizacion', 'alamedas', 'ciclo_rutas', 'gas_en_el_predio', 'telefono_en_el_predio', \n",
    "                 'sometido_a_propiedad_horizontal', 'vigilancia_privada']\n",
    "\n",
    "var_objetivo = ['clean_valor_total_avaluo']\n",
    "\n",
    "vars_categoricas = list(set(df_viviendas.columns).difference(vars_ordinales + vars_numericas + vars_binarias + var_objetivo))"
   ]
  },
  {
   "cell_type": "code",
   "execution_count": 3,
   "id": "669fe43a-1708-42b8-819a-17b669d8da85",
   "metadata": {
    "tags": []
   },
   "outputs": [],
   "source": [
    "df_viviendas[vars_numericas] = df_viviendas[vars_numericas].astype(float)\n",
    "df_viviendas[vars_ordinales] = df_viviendas[vars_ordinales].astype(float)\n",
    "df_viviendas[var_objetivo] = df_viviendas[var_objetivo].astype(float)"
   ]
  },
  {
   "cell_type": "code",
   "execution_count": 4,
   "id": "a09af654-34ee-4763-a3f6-73fb875ddec4",
   "metadata": {
    "tags": []
   },
   "outputs": [
    {
     "data": {
      "text/plain": [
       "(12694, 93)"
      ]
     },
     "execution_count": 4,
     "metadata": {},
     "output_type": "execute_result"
    }
   ],
   "source": [
    "df_viviendas.shape"
   ]
  },
  {
   "cell_type": "code",
   "execution_count": 5,
   "id": "f83037f7-fe0e-4744-a388-c4e0aebc87d6",
   "metadata": {
    "tags": []
   },
   "outputs": [],
   "source": [
    "import pickle\n",
    "pickle.dump(df_viviendas, open(\"datos_tablero.pkl\",\"wb\"))"
   ]
  }
 ],
 "metadata": {
  "kernelspec": {
   "display_name": "Python 3 (ipykernel)",
   "language": "python",
   "name": "python3"
  },
  "language_info": {
   "codemirror_mode": {
    "name": "ipython",
    "version": 3
   },
   "file_extension": ".py",
   "mimetype": "text/x-python",
   "name": "python",
   "nbconvert_exporter": "python",
   "pygments_lexer": "ipython3",
   "version": "3.11.4"
  }
 },
 "nbformat": 4,
 "nbformat_minor": 5
}
